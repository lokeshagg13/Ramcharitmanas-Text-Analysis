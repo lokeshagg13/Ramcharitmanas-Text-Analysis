{
 "cells": [
  {
   "cell_type": "code",
   "execution_count": 248,
   "id": "38493ab4-6387-42b6-9ad2-11d7e9835ec0",
   "metadata": {},
   "outputs": [],
   "source": [
    "import re\n",
    "import json\n",
    "import ezodf\n",
    "import pickle\n",
    "import requests\n",
    "\n",
    "import pandas as pd\n",
    "\n",
    "from bs4 import BeautifulSoup\n",
    "from tqdm import tqdm"
   ]
  },
  {
   "cell_type": "markdown",
   "id": "370e90ba-39b1-4eb9-ab0d-7b5d9eab52be",
   "metadata": {},
   "source": [
    "---"
   ]
  },
  {
   "cell_type": "code",
   "execution_count": 94,
   "id": "e686825f-79eb-499e-8219-89b7f48b9fc1",
   "metadata": {},
   "outputs": [
    {
     "data": {
      "text/html": [
       "<div>\n",
       "<style scoped>\n",
       "    .dataframe tbody tr th:only-of-type {\n",
       "        vertical-align: middle;\n",
       "    }\n",
       "\n",
       "    .dataframe tbody tr th {\n",
       "        vertical-align: top;\n",
       "    }\n",
       "\n",
       "    .dataframe thead th {\n",
       "        text-align: right;\n",
       "    }\n",
       "</style>\n",
       "<table border=\"1\" class=\"dataframe\">\n",
       "  <thead>\n",
       "    <tr style=\"text-align: right;\">\n",
       "      <th></th>\n",
       "      <th>0</th>\n",
       "      <th>1</th>\n",
       "    </tr>\n",
       "  </thead>\n",
       "  <tbody>\n",
       "    <tr>\n",
       "      <th>0</th>\n",
       "      <td>लोग वतन तक खा जाते हैं इसका इसे यकीन नहींमान ज...</td>\n",
       "      <td>negative</td>\n",
       "    </tr>\n",
       "    <tr>\n",
       "      <th>1</th>\n",
       "      <td>गुमनाम है वतन पर मिटने वाले लोग आतन्कवादियों स...</td>\n",
       "      <td>negative</td>\n",
       "    </tr>\n",
       "    <tr>\n",
       "      <th>2</th>\n",
       "      <td>ज़ंजीर बदली जा रही थी मैं समझा था रिहाई हो गयी है</td>\n",
       "      <td>negative</td>\n",
       "    </tr>\n",
       "    <tr>\n",
       "      <th>3</th>\n",
       "      <td>यूपी में बड़े स्तर पर दंगे करवा सकती है बीजेपी...</td>\n",
       "      <td>negative</td>\n",
       "    </tr>\n",
       "    <tr>\n",
       "      <th>4</th>\n",
       "      <td>अंग्रेजी नहीं आती है इसलिए हिन्दी ट्विट ज्यादा...</td>\n",
       "      <td>negative</td>\n",
       "    </tr>\n",
       "    <tr>\n",
       "      <th>...</th>\n",
       "      <td>...</td>\n",
       "      <td>...</td>\n",
       "    </tr>\n",
       "    <tr>\n",
       "      <th>9072</th>\n",
       "      <td>RT @aajtak: #Mojo बजरंग बली का सबसे विशालकाय र...</td>\n",
       "      <td>neutral</td>\n",
       "    </tr>\n",
       "    <tr>\n",
       "      <th>9073</th>\n",
       "      <td>RT @aajtak: कहां अचानक स्कूल में पड़ा मंत्री क...</td>\n",
       "      <td>neutral</td>\n",
       "    </tr>\n",
       "    <tr>\n",
       "      <th>9074</th>\n",
       "      <td>RT @aajtak: #MoJo सुनिए कुलभूषण की दर्दभरी आपब...</td>\n",
       "      <td>neutral</td>\n",
       "    </tr>\n",
       "    <tr>\n",
       "      <th>9075</th>\n",
       "      <td>RT @aajtak: लव जेहाद के नाम पर क्या उत्तर प्रद...</td>\n",
       "      <td>neutral</td>\n",
       "    </tr>\n",
       "    <tr>\n",
       "      <th>9076</th>\n",
       "      <td>कश्मीर में हमारे जवानों से ऐसा सलूक? वीडियो दे...</td>\n",
       "      <td>neutral</td>\n",
       "    </tr>\n",
       "  </tbody>\n",
       "</table>\n",
       "<p>9077 rows × 2 columns</p>\n",
       "</div>"
      ],
      "text/plain": [
       "                                                      0         1\n",
       "0     लोग वतन तक खा जाते हैं इसका इसे यकीन नहींमान ज...  negative\n",
       "1     गुमनाम है वतन पर मिटने वाले लोग आतन्कवादियों स...  negative\n",
       "2     ज़ंजीर बदली जा रही थी मैं समझा था रिहाई हो गयी है  negative\n",
       "3     यूपी में बड़े स्तर पर दंगे करवा सकती है बीजेपी...  negative\n",
       "4     अंग्रेजी नहीं आती है इसलिए हिन्दी ट्विट ज्यादा...  negative\n",
       "...                                                 ...       ...\n",
       "9072  RT @aajtak: #Mojo बजरंग बली का सबसे विशालकाय र...   neutral\n",
       "9073  RT @aajtak: कहां अचानक स्कूल में पड़ा मंत्री क...   neutral\n",
       "9074  RT @aajtak: #MoJo सुनिए कुलभूषण की दर्दभरी आपब...   neutral\n",
       "9075  RT @aajtak: लव जेहाद के नाम पर क्या उत्तर प्रद...   neutral\n",
       "9076  कश्मीर में हमारे जवानों से ऐसा सलूक? वीडियो दे...   neutral\n",
       "\n",
       "[9077 rows x 2 columns]"
      ]
     },
     "execution_count": 94,
     "metadata": {},
     "output_type": "execute_result"
    }
   ],
   "source": [
    "ods = ezodf.opendoc(\"../datasets/Vocab Builder/hindi_vocab.ods\")\n",
    "sheet = ods.sheets[0]\n",
    "data = [[cell.value for cell in row] for row in sheet.rows()]\n",
    "df = pd.DataFrame(data)\n",
    "df"
   ]
  },
  {
   "cell_type": "code",
   "execution_count": 95,
   "id": "4a717fb4-b2ee-4c5a-8ed8-9cf3e17c8be3",
   "metadata": {},
   "outputs": [
    {
     "data": {
      "text/plain": [
       "127126"
      ]
     },
     "execution_count": 95,
     "metadata": {},
     "output_type": "execute_result"
    }
   ],
   "source": [
    "txt = ' '.join(list(df[0]))\n",
    "words1 = [re.sub(r'[^\\u0900-\\u097F\\u200c\\u200d]', '', word) for word in txt.split(' ')]\n",
    "words1 = [word for word in words1 if word != '']\n",
    "len(words1)"
   ]
  },
  {
   "cell_type": "markdown",
   "id": "f8b34662-d58c-4c27-92fe-970ae7276f81",
   "metadata": {},
   "source": [
    "---"
   ]
  },
  {
   "cell_type": "code",
   "execution_count": 96,
   "id": "e7b07839-fcfc-4e96-a7e3-25c3bc551f9a",
   "metadata": {
    "scrolled": true
   },
   "outputs": [
    {
     "data": {
      "text/html": [
       "<div>\n",
       "<style scoped>\n",
       "    .dataframe tbody tr th:only-of-type {\n",
       "        vertical-align: middle;\n",
       "    }\n",
       "\n",
       "    .dataframe tbody tr th {\n",
       "        vertical-align: top;\n",
       "    }\n",
       "\n",
       "    .dataframe thead th {\n",
       "        text-align: right;\n",
       "    }\n",
       "</style>\n",
       "<table border=\"1\" class=\"dataframe\">\n",
       "  <thead>\n",
       "    <tr style=\"text-align: right;\">\n",
       "      <th></th>\n",
       "      <th>Kand</th>\n",
       "      <th>Verse</th>\n",
       "      <th>Meaning</th>\n",
       "      <th>Verse Type</th>\n",
       "      <th>Verse Count</th>\n",
       "      <th>Page Number</th>\n",
       "    </tr>\n",
       "  </thead>\n",
       "  <tbody>\n",
       "    <tr>\n",
       "      <th>0</th>\n",
       "      <td>बालकाण्ड</td>\n",
       "      <td>वर्णानामर्थसंघानां रसानां छन्दसामपि।\\nमड़लानां...</td>\n",
       "      <td>अक्षरों, अर्थसमूहों, रसों, छन्‍्दों और मंगलोंक...</td>\n",
       "      <td>श्लोक</td>\n",
       "      <td>१</td>\n",
       "      <td>१७</td>\n",
       "    </tr>\n",
       "    <tr>\n",
       "      <th>1</th>\n",
       "      <td>बालकाण्ड</td>\n",
       "      <td>भवानीशड्ूरोौ वन्दे   श्रद्धाविश्वासरूपिणौ।\\nया...</td>\n",
       "      <td>श्रद्धा और विश्वासके स्वरूप श्रीपार्वतीजी और श...</td>\n",
       "      <td>श्लोक</td>\n",
       "      <td>२</td>\n",
       "      <td>१७</td>\n",
       "    </tr>\n",
       "    <tr>\n",
       "      <th>2</th>\n",
       "      <td>बालकाण्ड</td>\n",
       "      <td>वन्दे बोधमयं नित्यं गुरु शड्डूररूपिणम्‌।\\nयमाथ...</td>\n",
       "      <td>ज्ञानमय, नित्य, शड्डूररूपी गुरुकी मैं वन्दना क...</td>\n",
       "      <td>श्लोक</td>\n",
       "      <td>३</td>\n",
       "      <td>१७</td>\n",
       "    </tr>\n",
       "    <tr>\n",
       "      <th>3</th>\n",
       "      <td>बालकाण्ड</td>\n",
       "      <td>सीतारामगुणग्रामपुण्यारण्यविहारिणौ।\\nवन्दे विशु...</td>\n",
       "      <td>श्रीसीतारामजीके गुणसमूहरूपी पवित्र वनमें विहार...</td>\n",
       "      <td>श्लोक</td>\n",
       "      <td>४</td>\n",
       "      <td>१७</td>\n",
       "    </tr>\n",
       "    <tr>\n",
       "      <th>4</th>\n",
       "      <td>बालकाण्ड</td>\n",
       "      <td>उद्धवस्थितिसंहारकारिणीं क्लेशहारिणीम्‌।\\nसर्वश...</td>\n",
       "      <td>उत्पत्ति, स्थिति (पालन) और संहार करनेवाली, क्ल...</td>\n",
       "      <td>श्लोक</td>\n",
       "      <td>५</td>\n",
       "      <td>१८</td>\n",
       "    </tr>\n",
       "    <tr>\n",
       "      <th>...</th>\n",
       "      <td>...</td>\n",
       "      <td>...</td>\n",
       "      <td>...</td>\n",
       "      <td>...</td>\n",
       "      <td>...</td>\n",
       "      <td>...</td>\n",
       "    </tr>\n",
       "    <tr>\n",
       "      <th>6157</th>\n",
       "      <td>उत्तरकाण्ड</td>\n",
       "      <td>मो सम दीन न दीन हित तुम्ह समान रघुबीर।\\nअस बिच...</td>\n",
       "      <td>हे श्रीरघुवीर ! मेरे समान कोई दीन नहीं है और आ...</td>\n",
       "      <td>दो०</td>\n",
       "      <td>१३० (क)</td>\n",
       "      <td>१०४६</td>\n",
       "    </tr>\n",
       "    <tr>\n",
       "      <th>6158</th>\n",
       "      <td>उत्तरकाण्ड</td>\n",
       "      <td>कामिहि नारि पिआरि जिमि लोभिहि प्रिय जिमि दाम।\\...</td>\n",
       "      <td>जैसे कामीको स्त्री प्रिय लगती है और लोभीको जैस...</td>\n",
       "      <td>दो०</td>\n",
       "      <td>१३० (ख)</td>\n",
       "      <td>१०४६</td>\n",
       "    </tr>\n",
       "    <tr>\n",
       "      <th>6159</th>\n",
       "      <td>उत्तरकाण्ड</td>\n",
       "      <td>य त्पूर्व प्रभुणा कृतं सुकविना श्रीशम्भुना दुर...</td>\n",
       "      <td>श्रेष्ठ कवि भगवान्‌ श्रीशंकरजीने पहले जिस दुर्...</td>\n",
       "      <td>श्लोक</td>\n",
       "      <td>१</td>\n",
       "      <td>१०४६</td>\n",
       "    </tr>\n",
       "    <tr>\n",
       "      <th>6160</th>\n",
       "      <td>उत्तरकाण्ड</td>\n",
       "      <td>पुण्यं पापहरं सदा शिवकरं विज्ञानभक्तिप्रदं।\\nम...</td>\n",
       "      <td>यह श्रीरामचरितमानस पुण्यरूप, पापोंका हरण करनेव...</td>\n",
       "      <td>श्लोक</td>\n",
       "      <td>२</td>\n",
       "      <td>१०४६</td>\n",
       "    </tr>\n",
       "    <tr>\n",
       "      <th>6161</th>\n",
       "      <td>उत्तरकाण्ड</td>\n",
       "      <td>इति श्रीमद्रामचरितमानसे सकलकलिकलुषविध्वंसने सप...</td>\n",
       "      <td>कलियुगके समस्त पापोंका नाश करनेवाले श्रीरामचरि...</td>\n",
       "      <td>अंत श्लोक</td>\n",
       "      <td>NaN</td>\n",
       "      <td>१०४७</td>\n",
       "    </tr>\n",
       "  </tbody>\n",
       "</table>\n",
       "<p>6162 rows × 6 columns</p>\n",
       "</div>"
      ],
      "text/plain": [
       "            Kand                                              Verse  \\\n",
       "0       बालकाण्ड  वर्णानामर्थसंघानां रसानां छन्दसामपि।\\nमड़लानां...   \n",
       "1       बालकाण्ड  भवानीशड्ूरोौ वन्दे   श्रद्धाविश्वासरूपिणौ।\\nया...   \n",
       "2       बालकाण्ड  वन्दे बोधमयं नित्यं गुरु शड्डूररूपिणम्‌।\\nयमाथ...   \n",
       "3       बालकाण्ड  सीतारामगुणग्रामपुण्यारण्यविहारिणौ।\\nवन्दे विशु...   \n",
       "4       बालकाण्ड  उद्धवस्थितिसंहारकारिणीं क्लेशहारिणीम्‌।\\nसर्वश...   \n",
       "...          ...                                                ...   \n",
       "6157  उत्तरकाण्ड  मो सम दीन न दीन हित तुम्ह समान रघुबीर।\\nअस बिच...   \n",
       "6158  उत्तरकाण्ड  कामिहि नारि पिआरि जिमि लोभिहि प्रिय जिमि दाम।\\...   \n",
       "6159  उत्तरकाण्ड  य त्पूर्व प्रभुणा कृतं सुकविना श्रीशम्भुना दुर...   \n",
       "6160  उत्तरकाण्ड  पुण्यं पापहरं सदा शिवकरं विज्ञानभक्तिप्रदं।\\nम...   \n",
       "6161  उत्तरकाण्ड  इति श्रीमद्रामचरितमानसे सकलकलिकलुषविध्वंसने सप...   \n",
       "\n",
       "                                                Meaning Verse Type  \\\n",
       "0     अक्षरों, अर्थसमूहों, रसों, छन्‍्दों और मंगलोंक...      श्लोक   \n",
       "1     श्रद्धा और विश्वासके स्वरूप श्रीपार्वतीजी और श...      श्लोक   \n",
       "2     ज्ञानमय, नित्य, शड्डूररूपी गुरुकी मैं वन्दना क...      श्लोक   \n",
       "3     श्रीसीतारामजीके गुणसमूहरूपी पवित्र वनमें विहार...      श्लोक   \n",
       "4     उत्पत्ति, स्थिति (पालन) और संहार करनेवाली, क्ल...      श्लोक   \n",
       "...                                                 ...        ...   \n",
       "6157  हे श्रीरघुवीर ! मेरे समान कोई दीन नहीं है और आ...        दो०   \n",
       "6158  जैसे कामीको स्त्री प्रिय लगती है और लोभीको जैस...        दो०   \n",
       "6159  श्रेष्ठ कवि भगवान्‌ श्रीशंकरजीने पहले जिस दुर्...      श्लोक   \n",
       "6160  यह श्रीरामचरितमानस पुण्यरूप, पापोंका हरण करनेव...      श्लोक   \n",
       "6161  कलियुगके समस्त पापोंका नाश करनेवाले श्रीरामचरि...  अंत श्लोक   \n",
       "\n",
       "     Verse Count Page Number  \n",
       "0              १          १७  \n",
       "1              २          १७  \n",
       "2              ३          १७  \n",
       "3              ४          १७  \n",
       "4              ५          १८  \n",
       "...          ...         ...  \n",
       "6157     १३० (क)        १०४६  \n",
       "6158     १३० (ख)        १०४६  \n",
       "6159           १        १०४६  \n",
       "6160           २        १०४६  \n",
       "6161         NaN        १०४७  \n",
       "\n",
       "[6162 rows x 6 columns]"
      ]
     },
     "execution_count": 96,
     "metadata": {},
     "output_type": "execute_result"
    }
   ],
   "source": [
    "df2 = pd.read_csv('../datasets/ramcharitmanas_df.csv')\n",
    "df2"
   ]
  },
  {
   "cell_type": "code",
   "execution_count": 97,
   "id": "c1826f99-4c91-4a21-a1ab-bffc1d3e9f5d",
   "metadata": {},
   "outputs": [
    {
     "data": {
      "text/plain": [
       "186801"
      ]
     },
     "execution_count": 97,
     "metadata": {},
     "output_type": "execute_result"
    }
   ],
   "source": [
    "txt = ' '.join(list(df2['Meaning']))\n",
    "words2 = [re.sub(r'[^\\u0900-\\u097F\\u200c\\u200d]', '', word) for word in txt.split(' ')]\n",
    "words2 = [re.sub(r'[।॥]', '', word) for word in words2]\n",
    "words2 = [word for word in words2 if word != '']\n",
    "len(words2)"
   ]
  },
  {
   "cell_type": "markdown",
   "id": "c6735c97-c2a5-48f4-baab-0037481f1920",
   "metadata": {},
   "source": [
    "---"
   ]
  },
  {
   "cell_type": "code",
   "execution_count": 74,
   "id": "6a3cfe96-61e7-4962-8135-afbdd81f7a64",
   "metadata": {},
   "outputs": [],
   "source": [
    "words3 = []"
   ]
  },
  {
   "cell_type": "code",
   "execution_count": 251,
   "id": "873256ec-3f7e-4e47-bbeb-7f9572d22498",
   "metadata": {},
   "outputs": [],
   "source": [
    "with open('../datasets/Vocab Builder/all_hindi_wikipedia_links.pkl', 'rb') as file:\n",
    "    urls = pickle.load(file)"
   ]
  },
  {
   "cell_type": "code",
   "execution_count": 252,
   "id": "547183c2-3649-4580-a096-63f0cb57fd1c",
   "metadata": {},
   "outputs": [
    {
     "data": {
      "text/plain": [
       "230392"
      ]
     },
     "execution_count": 252,
     "metadata": {},
     "output_type": "execute_result"
    }
   ],
   "source": [
    "len(urls)"
   ]
  },
  {
   "cell_type": "code",
   "execution_count": 85,
   "id": "74ed377e-aea6-4600-8d3b-021457b4667a",
   "metadata": {},
   "outputs": [
    {
     "data": {
      "text/plain": [
       "3234391"
      ]
     },
     "execution_count": 85,
     "metadata": {},
     "output_type": "execute_result"
    }
   ],
   "source": [
    "len(words3)"
   ]
  },
  {
   "cell_type": "code",
   "execution_count": 82,
   "id": "a4e8d377-3efa-4a90-bf42-4f3ea6d219fc",
   "metadata": {
    "scrolled": true
   },
   "outputs": [
    {
     "name": "stderr",
     "output_type": "stream",
     "text": [
      "2200it [38:07,  1.04s/it]\n"
     ]
    },
    {
     "ename": "KeyboardInterrupt",
     "evalue": "",
     "output_type": "error",
     "traceback": [
      "\u001b[31m---------------------------------------------------------------------------\u001b[39m",
      "\u001b[31mKeyboardInterrupt\u001b[39m                         Traceback (most recent call last)",
      "\u001b[36mCell\u001b[39m\u001b[36m \u001b[39m\u001b[32mIn[82]\u001b[39m\u001b[32m, line 4\u001b[39m\n\u001b[32m      1\u001b[39m \u001b[38;5;28;01mfor\u001b[39;00m i, url \u001b[38;5;129;01min\u001b[39;00m tqdm(\u001b[38;5;28menumerate\u001b[39m(urls)):\n\u001b[32m      2\u001b[39m     \u001b[38;5;66;03m# URL of the Wikipedia page\u001b[39;00m\n\u001b[32m      3\u001b[39m     \u001b[38;5;66;03m# Fetch the content of the page\u001b[39;00m\n\u001b[32m----> \u001b[39m\u001b[32m4\u001b[39m     response = \u001b[43mrequests\u001b[49m\u001b[43m.\u001b[49m\u001b[43mget\u001b[49m\u001b[43m(\u001b[49m\u001b[43murl\u001b[49m\u001b[43m)\u001b[49m\n\u001b[32m      5\u001b[39m     response.encoding = \u001b[33m'\u001b[39m\u001b[33mutf-8\u001b[39m\u001b[33m'\u001b[39m  \u001b[38;5;66;03m# Ensure proper encoding for Hindi text\u001b[39;00m\n\u001b[32m      7\u001b[39m     \u001b[38;5;66;03m# Parse the page using BeautifulSoup\u001b[39;00m\n",
      "\u001b[36mFile \u001b[39m\u001b[32m~/Work/Projects/Personal Projects/Projects 2025/Ramcharitmanas-Text-Analysis/hta-env/lib/python3.13/site-packages/requests/api.py:73\u001b[39m, in \u001b[36mget\u001b[39m\u001b[34m(url, params, **kwargs)\u001b[39m\n\u001b[32m     62\u001b[39m \u001b[38;5;28;01mdef\u001b[39;00m\u001b[38;5;250m \u001b[39m\u001b[34mget\u001b[39m(url, params=\u001b[38;5;28;01mNone\u001b[39;00m, **kwargs):\n\u001b[32m     63\u001b[39m \u001b[38;5;250m    \u001b[39m\u001b[33mr\u001b[39m\u001b[33;03m\"\"\"Sends a GET request.\u001b[39;00m\n\u001b[32m     64\u001b[39m \n\u001b[32m     65\u001b[39m \u001b[33;03m    :param url: URL for the new :class:`Request` object.\u001b[39;00m\n\u001b[32m   (...)\u001b[39m\u001b[32m     70\u001b[39m \u001b[33;03m    :rtype: requests.Response\u001b[39;00m\n\u001b[32m     71\u001b[39m \u001b[33;03m    \"\"\"\u001b[39;00m\n\u001b[32m---> \u001b[39m\u001b[32m73\u001b[39m     \u001b[38;5;28;01mreturn\u001b[39;00m \u001b[43mrequest\u001b[49m\u001b[43m(\u001b[49m\u001b[33;43m\"\u001b[39;49m\u001b[33;43mget\u001b[39;49m\u001b[33;43m\"\u001b[39;49m\u001b[43m,\u001b[49m\u001b[43m \u001b[49m\u001b[43murl\u001b[49m\u001b[43m,\u001b[49m\u001b[43m \u001b[49m\u001b[43mparams\u001b[49m\u001b[43m=\u001b[49m\u001b[43mparams\u001b[49m\u001b[43m,\u001b[49m\u001b[43m \u001b[49m\u001b[43m*\u001b[49m\u001b[43m*\u001b[49m\u001b[43mkwargs\u001b[49m\u001b[43m)\u001b[49m\n",
      "\u001b[36mFile \u001b[39m\u001b[32m~/Work/Projects/Personal Projects/Projects 2025/Ramcharitmanas-Text-Analysis/hta-env/lib/python3.13/site-packages/requests/api.py:59\u001b[39m, in \u001b[36mrequest\u001b[39m\u001b[34m(method, url, **kwargs)\u001b[39m\n\u001b[32m     55\u001b[39m \u001b[38;5;66;03m# By using the 'with' statement we are sure the session is closed, thus we\u001b[39;00m\n\u001b[32m     56\u001b[39m \u001b[38;5;66;03m# avoid leaving sockets open which can trigger a ResourceWarning in some\u001b[39;00m\n\u001b[32m     57\u001b[39m \u001b[38;5;66;03m# cases, and look like a memory leak in others.\u001b[39;00m\n\u001b[32m     58\u001b[39m \u001b[38;5;28;01mwith\u001b[39;00m sessions.Session() \u001b[38;5;28;01mas\u001b[39;00m session:\n\u001b[32m---> \u001b[39m\u001b[32m59\u001b[39m     \u001b[38;5;28;01mreturn\u001b[39;00m \u001b[43msession\u001b[49m\u001b[43m.\u001b[49m\u001b[43mrequest\u001b[49m\u001b[43m(\u001b[49m\u001b[43mmethod\u001b[49m\u001b[43m=\u001b[49m\u001b[43mmethod\u001b[49m\u001b[43m,\u001b[49m\u001b[43m \u001b[49m\u001b[43murl\u001b[49m\u001b[43m=\u001b[49m\u001b[43murl\u001b[49m\u001b[43m,\u001b[49m\u001b[43m \u001b[49m\u001b[43m*\u001b[49m\u001b[43m*\u001b[49m\u001b[43mkwargs\u001b[49m\u001b[43m)\u001b[49m\n",
      "\u001b[36mFile \u001b[39m\u001b[32m~/Work/Projects/Personal Projects/Projects 2025/Ramcharitmanas-Text-Analysis/hta-env/lib/python3.13/site-packages/requests/sessions.py:589\u001b[39m, in \u001b[36mSession.request\u001b[39m\u001b[34m(self, method, url, params, data, headers, cookies, files, auth, timeout, allow_redirects, proxies, hooks, stream, verify, cert, json)\u001b[39m\n\u001b[32m    584\u001b[39m send_kwargs = {\n\u001b[32m    585\u001b[39m     \u001b[33m\"\u001b[39m\u001b[33mtimeout\u001b[39m\u001b[33m\"\u001b[39m: timeout,\n\u001b[32m    586\u001b[39m     \u001b[33m\"\u001b[39m\u001b[33mallow_redirects\u001b[39m\u001b[33m\"\u001b[39m: allow_redirects,\n\u001b[32m    587\u001b[39m }\n\u001b[32m    588\u001b[39m send_kwargs.update(settings)\n\u001b[32m--> \u001b[39m\u001b[32m589\u001b[39m resp = \u001b[38;5;28;43mself\u001b[39;49m\u001b[43m.\u001b[49m\u001b[43msend\u001b[49m\u001b[43m(\u001b[49m\u001b[43mprep\u001b[49m\u001b[43m,\u001b[49m\u001b[43m \u001b[49m\u001b[43m*\u001b[49m\u001b[43m*\u001b[49m\u001b[43msend_kwargs\u001b[49m\u001b[43m)\u001b[49m\n\u001b[32m    591\u001b[39m \u001b[38;5;28;01mreturn\u001b[39;00m resp\n",
      "\u001b[36mFile \u001b[39m\u001b[32m~/Work/Projects/Personal Projects/Projects 2025/Ramcharitmanas-Text-Analysis/hta-env/lib/python3.13/site-packages/requests/sessions.py:703\u001b[39m, in \u001b[36mSession.send\u001b[39m\u001b[34m(self, request, **kwargs)\u001b[39m\n\u001b[32m    700\u001b[39m start = preferred_clock()\n\u001b[32m    702\u001b[39m \u001b[38;5;66;03m# Send the request\u001b[39;00m\n\u001b[32m--> \u001b[39m\u001b[32m703\u001b[39m r = \u001b[43madapter\u001b[49m\u001b[43m.\u001b[49m\u001b[43msend\u001b[49m\u001b[43m(\u001b[49m\u001b[43mrequest\u001b[49m\u001b[43m,\u001b[49m\u001b[43m \u001b[49m\u001b[43m*\u001b[49m\u001b[43m*\u001b[49m\u001b[43mkwargs\u001b[49m\u001b[43m)\u001b[49m\n\u001b[32m    705\u001b[39m \u001b[38;5;66;03m# Total elapsed time of the request (approximately)\u001b[39;00m\n\u001b[32m    706\u001b[39m elapsed = preferred_clock() - start\n",
      "\u001b[36mFile \u001b[39m\u001b[32m~/Work/Projects/Personal Projects/Projects 2025/Ramcharitmanas-Text-Analysis/hta-env/lib/python3.13/site-packages/requests/adapters.py:667\u001b[39m, in \u001b[36mHTTPAdapter.send\u001b[39m\u001b[34m(self, request, stream, timeout, verify, cert, proxies)\u001b[39m\n\u001b[32m    664\u001b[39m     timeout = TimeoutSauce(connect=timeout, read=timeout)\n\u001b[32m    666\u001b[39m \u001b[38;5;28;01mtry\u001b[39;00m:\n\u001b[32m--> \u001b[39m\u001b[32m667\u001b[39m     resp = \u001b[43mconn\u001b[49m\u001b[43m.\u001b[49m\u001b[43murlopen\u001b[49m\u001b[43m(\u001b[49m\n\u001b[32m    668\u001b[39m \u001b[43m        \u001b[49m\u001b[43mmethod\u001b[49m\u001b[43m=\u001b[49m\u001b[43mrequest\u001b[49m\u001b[43m.\u001b[49m\u001b[43mmethod\u001b[49m\u001b[43m,\u001b[49m\n\u001b[32m    669\u001b[39m \u001b[43m        \u001b[49m\u001b[43murl\u001b[49m\u001b[43m=\u001b[49m\u001b[43murl\u001b[49m\u001b[43m,\u001b[49m\n\u001b[32m    670\u001b[39m \u001b[43m        \u001b[49m\u001b[43mbody\u001b[49m\u001b[43m=\u001b[49m\u001b[43mrequest\u001b[49m\u001b[43m.\u001b[49m\u001b[43mbody\u001b[49m\u001b[43m,\u001b[49m\n\u001b[32m    671\u001b[39m \u001b[43m        \u001b[49m\u001b[43mheaders\u001b[49m\u001b[43m=\u001b[49m\u001b[43mrequest\u001b[49m\u001b[43m.\u001b[49m\u001b[43mheaders\u001b[49m\u001b[43m,\u001b[49m\n\u001b[32m    672\u001b[39m \u001b[43m        \u001b[49m\u001b[43mredirect\u001b[49m\u001b[43m=\u001b[49m\u001b[38;5;28;43;01mFalse\u001b[39;49;00m\u001b[43m,\u001b[49m\n\u001b[32m    673\u001b[39m \u001b[43m        \u001b[49m\u001b[43massert_same_host\u001b[49m\u001b[43m=\u001b[49m\u001b[38;5;28;43;01mFalse\u001b[39;49;00m\u001b[43m,\u001b[49m\n\u001b[32m    674\u001b[39m \u001b[43m        \u001b[49m\u001b[43mpreload_content\u001b[49m\u001b[43m=\u001b[49m\u001b[38;5;28;43;01mFalse\u001b[39;49;00m\u001b[43m,\u001b[49m\n\u001b[32m    675\u001b[39m \u001b[43m        \u001b[49m\u001b[43mdecode_content\u001b[49m\u001b[43m=\u001b[49m\u001b[38;5;28;43;01mFalse\u001b[39;49;00m\u001b[43m,\u001b[49m\n\u001b[32m    676\u001b[39m \u001b[43m        \u001b[49m\u001b[43mretries\u001b[49m\u001b[43m=\u001b[49m\u001b[38;5;28;43mself\u001b[39;49m\u001b[43m.\u001b[49m\u001b[43mmax_retries\u001b[49m\u001b[43m,\u001b[49m\n\u001b[32m    677\u001b[39m \u001b[43m        \u001b[49m\u001b[43mtimeout\u001b[49m\u001b[43m=\u001b[49m\u001b[43mtimeout\u001b[49m\u001b[43m,\u001b[49m\n\u001b[32m    678\u001b[39m \u001b[43m        \u001b[49m\u001b[43mchunked\u001b[49m\u001b[43m=\u001b[49m\u001b[43mchunked\u001b[49m\u001b[43m,\u001b[49m\n\u001b[32m    679\u001b[39m \u001b[43m    \u001b[49m\u001b[43m)\u001b[49m\n\u001b[32m    681\u001b[39m \u001b[38;5;28;01mexcept\u001b[39;00m (ProtocolError, \u001b[38;5;167;01mOSError\u001b[39;00m) \u001b[38;5;28;01mas\u001b[39;00m err:\n\u001b[32m    682\u001b[39m     \u001b[38;5;28;01mraise\u001b[39;00m \u001b[38;5;167;01mConnectionError\u001b[39;00m(err, request=request)\n",
      "\u001b[36mFile \u001b[39m\u001b[32m~/Work/Projects/Personal Projects/Projects 2025/Ramcharitmanas-Text-Analysis/hta-env/lib/python3.13/site-packages/urllib3/connectionpool.py:787\u001b[39m, in \u001b[36mHTTPConnectionPool.urlopen\u001b[39m\u001b[34m(self, method, url, body, headers, retries, redirect, assert_same_host, timeout, pool_timeout, release_conn, chunked, body_pos, preload_content, decode_content, **response_kw)\u001b[39m\n\u001b[32m    784\u001b[39m response_conn = conn \u001b[38;5;28;01mif\u001b[39;00m \u001b[38;5;129;01mnot\u001b[39;00m release_conn \u001b[38;5;28;01melse\u001b[39;00m \u001b[38;5;28;01mNone\u001b[39;00m\n\u001b[32m    786\u001b[39m \u001b[38;5;66;03m# Make the request on the HTTPConnection object\u001b[39;00m\n\u001b[32m--> \u001b[39m\u001b[32m787\u001b[39m response = \u001b[38;5;28;43mself\u001b[39;49m\u001b[43m.\u001b[49m\u001b[43m_make_request\u001b[49m\u001b[43m(\u001b[49m\n\u001b[32m    788\u001b[39m \u001b[43m    \u001b[49m\u001b[43mconn\u001b[49m\u001b[43m,\u001b[49m\n\u001b[32m    789\u001b[39m \u001b[43m    \u001b[49m\u001b[43mmethod\u001b[49m\u001b[43m,\u001b[49m\n\u001b[32m    790\u001b[39m \u001b[43m    \u001b[49m\u001b[43murl\u001b[49m\u001b[43m,\u001b[49m\n\u001b[32m    791\u001b[39m \u001b[43m    \u001b[49m\u001b[43mtimeout\u001b[49m\u001b[43m=\u001b[49m\u001b[43mtimeout_obj\u001b[49m\u001b[43m,\u001b[49m\n\u001b[32m    792\u001b[39m \u001b[43m    \u001b[49m\u001b[43mbody\u001b[49m\u001b[43m=\u001b[49m\u001b[43mbody\u001b[49m\u001b[43m,\u001b[49m\n\u001b[32m    793\u001b[39m \u001b[43m    \u001b[49m\u001b[43mheaders\u001b[49m\u001b[43m=\u001b[49m\u001b[43mheaders\u001b[49m\u001b[43m,\u001b[49m\n\u001b[32m    794\u001b[39m \u001b[43m    \u001b[49m\u001b[43mchunked\u001b[49m\u001b[43m=\u001b[49m\u001b[43mchunked\u001b[49m\u001b[43m,\u001b[49m\n\u001b[32m    795\u001b[39m \u001b[43m    \u001b[49m\u001b[43mretries\u001b[49m\u001b[43m=\u001b[49m\u001b[43mretries\u001b[49m\u001b[43m,\u001b[49m\n\u001b[32m    796\u001b[39m \u001b[43m    \u001b[49m\u001b[43mresponse_conn\u001b[49m\u001b[43m=\u001b[49m\u001b[43mresponse_conn\u001b[49m\u001b[43m,\u001b[49m\n\u001b[32m    797\u001b[39m \u001b[43m    \u001b[49m\u001b[43mpreload_content\u001b[49m\u001b[43m=\u001b[49m\u001b[43mpreload_content\u001b[49m\u001b[43m,\u001b[49m\n\u001b[32m    798\u001b[39m \u001b[43m    \u001b[49m\u001b[43mdecode_content\u001b[49m\u001b[43m=\u001b[49m\u001b[43mdecode_content\u001b[49m\u001b[43m,\u001b[49m\n\u001b[32m    799\u001b[39m \u001b[43m    \u001b[49m\u001b[43m*\u001b[49m\u001b[43m*\u001b[49m\u001b[43mresponse_kw\u001b[49m\u001b[43m,\u001b[49m\n\u001b[32m    800\u001b[39m \u001b[43m\u001b[49m\u001b[43m)\u001b[49m\n\u001b[32m    802\u001b[39m \u001b[38;5;66;03m# Everything went great!\u001b[39;00m\n\u001b[32m    803\u001b[39m clean_exit = \u001b[38;5;28;01mTrue\u001b[39;00m\n",
      "\u001b[36mFile \u001b[39m\u001b[32m~/Work/Projects/Personal Projects/Projects 2025/Ramcharitmanas-Text-Analysis/hta-env/lib/python3.13/site-packages/urllib3/connectionpool.py:534\u001b[39m, in \u001b[36mHTTPConnectionPool._make_request\u001b[39m\u001b[34m(self, conn, method, url, body, headers, retries, timeout, chunked, response_conn, preload_content, decode_content, enforce_content_length)\u001b[39m\n\u001b[32m    532\u001b[39m \u001b[38;5;66;03m# Receive the response from the server\u001b[39;00m\n\u001b[32m    533\u001b[39m \u001b[38;5;28;01mtry\u001b[39;00m:\n\u001b[32m--> \u001b[39m\u001b[32m534\u001b[39m     response = \u001b[43mconn\u001b[49m\u001b[43m.\u001b[49m\u001b[43mgetresponse\u001b[49m\u001b[43m(\u001b[49m\u001b[43m)\u001b[49m\n\u001b[32m    535\u001b[39m \u001b[38;5;28;01mexcept\u001b[39;00m (BaseSSLError, \u001b[38;5;167;01mOSError\u001b[39;00m) \u001b[38;5;28;01mas\u001b[39;00m e:\n\u001b[32m    536\u001b[39m     \u001b[38;5;28mself\u001b[39m._raise_timeout(err=e, url=url, timeout_value=read_timeout)\n",
      "\u001b[36mFile \u001b[39m\u001b[32m~/Work/Projects/Personal Projects/Projects 2025/Ramcharitmanas-Text-Analysis/hta-env/lib/python3.13/site-packages/urllib3/connection.py:516\u001b[39m, in \u001b[36mHTTPConnection.getresponse\u001b[39m\u001b[34m(self)\u001b[39m\n\u001b[32m    513\u001b[39m _shutdown = \u001b[38;5;28mgetattr\u001b[39m(\u001b[38;5;28mself\u001b[39m.sock, \u001b[33m\"\u001b[39m\u001b[33mshutdown\u001b[39m\u001b[33m\"\u001b[39m, \u001b[38;5;28;01mNone\u001b[39;00m)\n\u001b[32m    515\u001b[39m \u001b[38;5;66;03m# Get the response from http.client.HTTPConnection\u001b[39;00m\n\u001b[32m--> \u001b[39m\u001b[32m516\u001b[39m httplib_response = \u001b[38;5;28;43msuper\u001b[39;49m\u001b[43m(\u001b[49m\u001b[43m)\u001b[49m\u001b[43m.\u001b[49m\u001b[43mgetresponse\u001b[49m\u001b[43m(\u001b[49m\u001b[43m)\u001b[49m\n\u001b[32m    518\u001b[39m \u001b[38;5;28;01mtry\u001b[39;00m:\n\u001b[32m    519\u001b[39m     assert_header_parsing(httplib_response.msg)\n",
      "\u001b[36mFile \u001b[39m\u001b[32m/opt/homebrew/Cellar/python@3.13/3.13.2/Frameworks/Python.framework/Versions/3.13/lib/python3.13/http/client.py:1430\u001b[39m, in \u001b[36mHTTPConnection.getresponse\u001b[39m\u001b[34m(self)\u001b[39m\n\u001b[32m   1428\u001b[39m \u001b[38;5;28;01mtry\u001b[39;00m:\n\u001b[32m   1429\u001b[39m     \u001b[38;5;28;01mtry\u001b[39;00m:\n\u001b[32m-> \u001b[39m\u001b[32m1430\u001b[39m         \u001b[43mresponse\u001b[49m\u001b[43m.\u001b[49m\u001b[43mbegin\u001b[49m\u001b[43m(\u001b[49m\u001b[43m)\u001b[49m\n\u001b[32m   1431\u001b[39m     \u001b[38;5;28;01mexcept\u001b[39;00m \u001b[38;5;167;01mConnectionError\u001b[39;00m:\n\u001b[32m   1432\u001b[39m         \u001b[38;5;28mself\u001b[39m.close()\n",
      "\u001b[36mFile \u001b[39m\u001b[32m/opt/homebrew/Cellar/python@3.13/3.13.2/Frameworks/Python.framework/Versions/3.13/lib/python3.13/http/client.py:331\u001b[39m, in \u001b[36mHTTPResponse.begin\u001b[39m\u001b[34m(self)\u001b[39m\n\u001b[32m    329\u001b[39m \u001b[38;5;66;03m# read until we get a non-100 response\u001b[39;00m\n\u001b[32m    330\u001b[39m \u001b[38;5;28;01mwhile\u001b[39;00m \u001b[38;5;28;01mTrue\u001b[39;00m:\n\u001b[32m--> \u001b[39m\u001b[32m331\u001b[39m     version, status, reason = \u001b[38;5;28;43mself\u001b[39;49m\u001b[43m.\u001b[49m\u001b[43m_read_status\u001b[49m\u001b[43m(\u001b[49m\u001b[43m)\u001b[49m\n\u001b[32m    332\u001b[39m     \u001b[38;5;28;01mif\u001b[39;00m status != CONTINUE:\n\u001b[32m    333\u001b[39m         \u001b[38;5;28;01mbreak\u001b[39;00m\n",
      "\u001b[36mFile \u001b[39m\u001b[32m/opt/homebrew/Cellar/python@3.13/3.13.2/Frameworks/Python.framework/Versions/3.13/lib/python3.13/http/client.py:292\u001b[39m, in \u001b[36mHTTPResponse._read_status\u001b[39m\u001b[34m(self)\u001b[39m\n\u001b[32m    291\u001b[39m \u001b[38;5;28;01mdef\u001b[39;00m\u001b[38;5;250m \u001b[39m\u001b[34m_read_status\u001b[39m(\u001b[38;5;28mself\u001b[39m):\n\u001b[32m--> \u001b[39m\u001b[32m292\u001b[39m     line = \u001b[38;5;28mstr\u001b[39m(\u001b[38;5;28;43mself\u001b[39;49m\u001b[43m.\u001b[49m\u001b[43mfp\u001b[49m\u001b[43m.\u001b[49m\u001b[43mreadline\u001b[49m\u001b[43m(\u001b[49m\u001b[43m_MAXLINE\u001b[49m\u001b[43m \u001b[49m\u001b[43m+\u001b[49m\u001b[43m \u001b[49m\u001b[32;43m1\u001b[39;49m\u001b[43m)\u001b[49m, \u001b[33m\"\u001b[39m\u001b[33miso-8859-1\u001b[39m\u001b[33m\"\u001b[39m)\n\u001b[32m    293\u001b[39m     \u001b[38;5;28;01mif\u001b[39;00m \u001b[38;5;28mlen\u001b[39m(line) > _MAXLINE:\n\u001b[32m    294\u001b[39m         \u001b[38;5;28;01mraise\u001b[39;00m LineTooLong(\u001b[33m\"\u001b[39m\u001b[33mstatus line\u001b[39m\u001b[33m\"\u001b[39m)\n",
      "\u001b[36mFile \u001b[39m\u001b[32m/opt/homebrew/Cellar/python@3.13/3.13.2/Frameworks/Python.framework/Versions/3.13/lib/python3.13/socket.py:719\u001b[39m, in \u001b[36mSocketIO.readinto\u001b[39m\u001b[34m(self, b)\u001b[39m\n\u001b[32m    717\u001b[39m     \u001b[38;5;28;01mraise\u001b[39;00m \u001b[38;5;167;01mOSError\u001b[39;00m(\u001b[33m\"\u001b[39m\u001b[33mcannot read from timed out object\u001b[39m\u001b[33m\"\u001b[39m)\n\u001b[32m    718\u001b[39m \u001b[38;5;28;01mtry\u001b[39;00m:\n\u001b[32m--> \u001b[39m\u001b[32m719\u001b[39m     \u001b[38;5;28;01mreturn\u001b[39;00m \u001b[38;5;28;43mself\u001b[39;49m\u001b[43m.\u001b[49m\u001b[43m_sock\u001b[49m\u001b[43m.\u001b[49m\u001b[43mrecv_into\u001b[49m\u001b[43m(\u001b[49m\u001b[43mb\u001b[49m\u001b[43m)\u001b[49m\n\u001b[32m    720\u001b[39m \u001b[38;5;28;01mexcept\u001b[39;00m timeout:\n\u001b[32m    721\u001b[39m     \u001b[38;5;28mself\u001b[39m._timeout_occurred = \u001b[38;5;28;01mTrue\u001b[39;00m\n",
      "\u001b[36mFile \u001b[39m\u001b[32m/opt/homebrew/Cellar/python@3.13/3.13.2/Frameworks/Python.framework/Versions/3.13/lib/python3.13/ssl.py:1304\u001b[39m, in \u001b[36mSSLSocket.recv_into\u001b[39m\u001b[34m(self, buffer, nbytes, flags)\u001b[39m\n\u001b[32m   1300\u001b[39m     \u001b[38;5;28;01mif\u001b[39;00m flags != \u001b[32m0\u001b[39m:\n\u001b[32m   1301\u001b[39m         \u001b[38;5;28;01mraise\u001b[39;00m \u001b[38;5;167;01mValueError\u001b[39;00m(\n\u001b[32m   1302\u001b[39m           \u001b[33m\"\u001b[39m\u001b[33mnon-zero flags not allowed in calls to recv_into() on \u001b[39m\u001b[38;5;132;01m%s\u001b[39;00m\u001b[33m\"\u001b[39m %\n\u001b[32m   1303\u001b[39m           \u001b[38;5;28mself\u001b[39m.\u001b[34m__class__\u001b[39m)\n\u001b[32m-> \u001b[39m\u001b[32m1304\u001b[39m     \u001b[38;5;28;01mreturn\u001b[39;00m \u001b[38;5;28;43mself\u001b[39;49m\u001b[43m.\u001b[49m\u001b[43mread\u001b[49m\u001b[43m(\u001b[49m\u001b[43mnbytes\u001b[49m\u001b[43m,\u001b[49m\u001b[43m \u001b[49m\u001b[43mbuffer\u001b[49m\u001b[43m)\u001b[49m\n\u001b[32m   1305\u001b[39m \u001b[38;5;28;01melse\u001b[39;00m:\n\u001b[32m   1306\u001b[39m     \u001b[38;5;28;01mreturn\u001b[39;00m \u001b[38;5;28msuper\u001b[39m().recv_into(buffer, nbytes, flags)\n",
      "\u001b[36mFile \u001b[39m\u001b[32m/opt/homebrew/Cellar/python@3.13/3.13.2/Frameworks/Python.framework/Versions/3.13/lib/python3.13/ssl.py:1138\u001b[39m, in \u001b[36mSSLSocket.read\u001b[39m\u001b[34m(self, len, buffer)\u001b[39m\n\u001b[32m   1136\u001b[39m \u001b[38;5;28;01mtry\u001b[39;00m:\n\u001b[32m   1137\u001b[39m     \u001b[38;5;28;01mif\u001b[39;00m buffer \u001b[38;5;129;01mis\u001b[39;00m \u001b[38;5;129;01mnot\u001b[39;00m \u001b[38;5;28;01mNone\u001b[39;00m:\n\u001b[32m-> \u001b[39m\u001b[32m1138\u001b[39m         \u001b[38;5;28;01mreturn\u001b[39;00m \u001b[38;5;28;43mself\u001b[39;49m\u001b[43m.\u001b[49m\u001b[43m_sslobj\u001b[49m\u001b[43m.\u001b[49m\u001b[43mread\u001b[49m\u001b[43m(\u001b[49m\u001b[38;5;28;43mlen\u001b[39;49m\u001b[43m,\u001b[49m\u001b[43m \u001b[49m\u001b[43mbuffer\u001b[49m\u001b[43m)\u001b[49m\n\u001b[32m   1139\u001b[39m     \u001b[38;5;28;01melse\u001b[39;00m:\n\u001b[32m   1140\u001b[39m         \u001b[38;5;28;01mreturn\u001b[39;00m \u001b[38;5;28mself\u001b[39m._sslobj.read(\u001b[38;5;28mlen\u001b[39m)\n",
      "\u001b[31mKeyboardInterrupt\u001b[39m: "
     ]
    }
   ],
   "source": [
    "# start_from = 0\n",
    "start_from = 2200\n",
    "for i, url in tqdm(enumerate(urls[start_from:])):\n",
    "    # URL of the Wikipedia page\n",
    "    # Fetch the content of the page\n",
    "    response = requests.get(url)\n",
    "    response.encoding = 'utf-8'  # Ensure proper encoding for Hindi text\n",
    "    \n",
    "    # Parse the page using BeautifulSoup\n",
    "    soup = BeautifulSoup(response.text, 'html.parser')\n",
    "    \n",
    "    txt = str(soup)\n",
    "    temp_words = [re.sub(r'[^\\u0900-\\u097F\\u200c\\u200d]', '', word) for word in txt.split(' ')]\n",
    "    temp_words = [re.sub(r'[।॥]', '', word) for word in temp_words]\n",
    "    temp_words = [word for word in temp_words if word != '']\n",
    "    words3 += temp_words"
   ]
  },
  {
   "cell_type": "code",
   "execution_count": 84,
   "id": "e974dcee-5cc2-4a14-99fe-8fb1a1bc3838",
   "metadata": {},
   "outputs": [],
   "source": [
    "words3 = [w for w in words3 if len(w) < 12]"
   ]
  },
  {
   "cell_type": "code",
   "execution_count": 86,
   "id": "d09e330b-d6b5-4d0b-8585-c1cd1c3a6048",
   "metadata": {},
   "outputs": [
    {
     "data": {
      "image/png": "[encoded data removed]",
      "text/plain": [
       "<Figure size 640x480 with 1 Axes>"
      ]
     },
     "metadata": {},
     "output_type": "display_data"
    }
   ],
   "source": [
    "import matplotlib.pyplot as plt\n",
    "\n",
    "lens = [len(w) for w in words3]\n",
    "# Plot the histogram\n",
    "plt.hist(lens, bins=5, color='skyblue', edgecolor='black')\n",
    "\n",
    "# Add labels and title\n",
    "plt.xlabel('Value Ranges')\n",
    "plt.ylabel('Frequency')\n",
    "plt.title('Histogram of Data Distribution')\n",
    "\n",
    "# Show the plot\n",
    "plt.show()\n"
   ]
  },
  {
   "cell_type": "markdown",
   "id": "134af9d0-8e77-4025-8d8a-63c282459034",
   "metadata": {},
   "source": [
    "---"
   ]
  },
  {
   "cell_type": "code",
   "execution_count": 169,
   "id": "ce2338dd-1981-411b-b859-2b00aec34a72",
   "metadata": {},
   "outputs": [
    {
     "data": {
      "text/plain": [
       "3548318"
      ]
     },
     "execution_count": 169,
     "metadata": {},
     "output_type": "execute_result"
    }
   ],
   "source": [
    "words = words1 + words2 + words3\n",
    "len(words)"
   ]
  },
  {
   "cell_type": "code",
   "execution_count": 170,
   "id": "8320ffd3-f4cd-4095-8d1e-307dcf0d0b55",
   "metadata": {},
   "outputs": [
    {
     "data": {
      "text/plain": [
       "133237"
      ]
     },
     "execution_count": 170,
     "metadata": {},
     "output_type": "execute_result"
    }
   ],
   "source": [
    "words = list(set(words))\n",
    "len(words)"
   ]
  },
  {
   "cell_type": "code",
   "execution_count": 171,
   "id": "2c3d77f2-9ab3-40bd-9941-517e98d203bc",
   "metadata": {},
   "outputs": [
    {
     "data": {
      "text/plain": [
       "125468"
      ]
     },
     "execution_count": 171,
     "metadata": {},
     "output_type": "execute_result"
    }
   ],
   "source": [
    "postpositions = [\n",
    "    'का', 'की', 'के', 'में', 'से', 'पर', 'को', 'तक', 'बिना', 'साथ', 'वाले', 'वाली', 'वाला', 'ने'\n",
    "]\n",
    "\n",
    "for idx in range(len(words)):\n",
    "    word = words[idx]\n",
    "    for post in postpositions:\n",
    "        if word.endswith(post) and len(word) > len(post):\n",
    "            root = word[:-len(post)]\n",
    "            words[idx] = root\n",
    "            words.append(post)\n",
    "\n",
    "words = list(set(words))\n",
    "len(words)"
   ]
  },
  {
   "cell_type": "code",
   "execution_count": 172,
   "id": "aedd8005-3dd7-42ad-8e83-770c6d3a2263",
   "metadata": {},
   "outputs": [
    {
     "name": "stdout",
     "output_type": "stream",
     "text": [
      "['।', '॥']\n"
     ]
    }
   ],
   "source": [
    "txt = ' '.join(words)\n",
    "characters = []\n",
    "for c in txt:\n",
    "    characters.append(c)\n",
    "unique_characters = list(set(characters))\n",
    "potential_invalid_characters = [char for char in unique_characters if not re.match(r'[ \\u0900-\\u097F\\u200c\\u200d]', char) or re.match(r'[।॥]', char)]\n",
    "print(potential_invalid_characters)"
   ]
  },
  {
   "cell_type": "code",
   "execution_count": 173,
   "id": "4cd35c07-e80b-42bc-9229-76229e2e1eee",
   "metadata": {
    "scrolled": true
   },
   "outputs": [
    {
     "name": "stdout",
     "output_type": "stream",
     "text": [
      "[' ', 'ँ', 'ं', 'ः', 'अ', 'आ', 'इ', 'ई', 'उ', 'ऊ', 'ऋ', 'ऍ', 'ऎ', 'ए', 'ऐ', 'ऑ', 'ऒ', 'ओ', 'औ', 'क', 'ख', 'ग', 'घ', 'ङ', 'च', 'छ', 'ज', 'झ', 'ञ', 'ट', 'ठ', 'ड', 'ढ', 'ण', 'त', 'थ', 'द', 'ध', 'न', 'ऩ', 'प', 'फ', 'ब', 'भ', 'म', 'य', 'र', 'ऱ', 'ल', 'ळ', 'ऴ', 'व', 'श', 'ष', 'स', 'ह', '़', 'ऽ', 'ा', 'ि', 'ी', 'ु', 'ू', 'ृ', 'ॄ', 'ॅ', 'ॆ', 'े', 'ै', 'ॉ', 'ॊ', 'ो', 'ौ', '्', 'ॐ', '॑', '॒', '॓', '॔', 'क़', 'ख़', 'ज़', 'ड़', 'ढ़', 'फ़', 'ॠ', '।', '॥', '०', '१', '२', '३', '४', '५', '६', '७', '८', '९', '॰', 'ॱ', 'ॲ', 'ॽ', '\\u200c', '\\u200d']\n"
     ]
    }
   ],
   "source": [
    "print(sorted(unique_characters))"
   ]
  },
  {
   "cell_type": "code",
   "execution_count": 235,
   "id": "b3fc7627-0b1e-4db6-baa7-b01db9ef1bc5",
   "metadata": {},
   "outputs": [
    {
     "data": {
      "text/plain": [
       "117398"
      ]
     },
     "execution_count": 235,
     "metadata": {},
     "output_type": "execute_result"
    }
   ],
   "source": [
    "valid_words = []\n",
    "for w in words:\n",
    "    invalid = False\n",
    "    for ch in ['०', '१', '२', '३', '४', '५', '६', '७', '८', '९', '॰', 'ॽ', '।', '॥', 'ॱ', 'ॲ', 'ः', 'ऍ', 'ऎ', 'ऑ', 'ॅ', 'ऒ', 'ऱ', 'ॆ', 'ॉ', '॑', '॒', '॓', '॔', 'क़', 'ख़', 'ड़', 'ढ़', 'फ़']:\n",
    "        if ch in w:\n",
    "            invalid = True\n",
    "            break\n",
    "    if not invalid: valid_words.append(w)\n",
    "\n",
    "words = list(set(valid_words))\n",
    "len(words)"
   ]
  },
  {
   "cell_type": "code",
   "execution_count": 228,
   "id": "44b45a3b-2965-4898-b345-92b087599360",
   "metadata": {},
   "outputs": [
    {
     "name": "stdout",
     "output_type": "stream",
     "text": [
      "[' ', 'ँ', 'ं', 'अ', 'आ', 'इ', 'ई', 'उ', 'ऊ', 'ऋ', 'ए', 'ऐ', 'ओ', 'औ', 'क', 'ख', 'ग', 'घ', 'ङ', 'च', 'छ', 'ज', 'झ', 'ञ', 'ट', 'ठ', 'ड', 'ढ', 'ण', 'त', 'थ', 'द', 'ध', 'न', 'ऩ', 'प', 'फ', 'ब', 'भ', 'म', 'य', 'र', 'ल', 'ळ', 'ऴ', 'व', 'श', 'ष', 'स', 'ह', '़', 'ऽ', 'ा', 'ि', 'ी', 'ु', 'ू', 'ृ', 'ॄ', 'े', 'ै', 'ॊ', 'ो', 'ौ', '्', 'ॐ', 'ज़', 'ड़', 'ढ़', 'फ़', 'ॠ', '\\u200c', '\\u200d']\n"
     ]
    }
   ],
   "source": [
    "txt = ' '.join(words)\n",
    "characters = []\n",
    "for c in txt:\n",
    "    characters.append(c)\n",
    "unique_characters = list(set(characters))\n",
    "print(sorted(unique_characters))"
   ]
  },
  {
   "cell_type": "code",
   "execution_count": 242,
   "id": "a428c691-2333-4b5e-8fa2-03db70075e51",
   "metadata": {},
   "outputs": [
    {
     "data": {
      "text/plain": [
       "116639"
      ]
     },
     "execution_count": 242,
     "metadata": {},
     "output_type": "execute_result"
    }
   ],
   "source": [
    "character_mapping = {\n",
    "    'ः': '',\n",
    "    'ऩ': 'न',\n",
    "    'ॄ': 'ृ',\n",
    "    'ॊ': 'ो',\n",
    "    'ॠ': 'ऋ',\n",
    "    'ळ': 'ल',\n",
    "    'ऴ': 'ल',\n",
    "    'ँ': 'ं'\n",
    "}\n",
    "\n",
    "for i, w in enumerate(words):\n",
    "    for ch_key, ch_val in character_mapping.items():\n",
    "        if ch_key in w:\n",
    "            words[i] = w.replace(ch_key, ch_val)\n",
    "\n",
    "words = list(set(words))\n",
    "len(words)"
   ]
  },
  {
   "cell_type": "code",
   "execution_count": 243,
   "id": "f5a99358-c017-4e56-9bf2-c5b64af8bf45",
   "metadata": {},
   "outputs": [
    {
     "name": "stdout",
     "output_type": "stream",
     "text": [
      "[' ', 'ं', 'अ', 'आ', 'इ', 'ई', 'उ', 'ऊ', 'ऋ', 'ए', 'ऐ', 'ओ', 'औ', 'क', 'ख', 'ग', 'घ', 'ङ', 'च', 'छ', 'ज', 'झ', 'ञ', 'ट', 'ठ', 'ड', 'ढ', 'ण', 'त', 'थ', 'द', 'ध', 'न', 'प', 'फ', 'ब', 'भ', 'म', 'य', 'र', 'ल', 'व', 'श', 'ष', 'स', 'ह', '़', 'ऽ', 'ा', 'ि', 'ी', 'ु', 'ू', 'ृ', 'े', 'ै', 'ो', 'ौ', '्', 'ॐ', 'ज़', '\\u200c', '\\u200d']\n"
     ]
    }
   ],
   "source": [
    "txt = ' '.join(words)\n",
    "characters = []\n",
    "for c in txt:\n",
    "    characters.append(c)\n",
    "unique_characters = list(set(characters))\n",
    "print(sorted(unique_characters))"
   ]
  },
  {
   "cell_type": "markdown",
   "id": "d4f4939d-6b58-4c71-b228-e687aa4a2536",
   "metadata": {},
   "source": [
    "---"
   ]
  },
  {
   "cell_type": "markdown",
   "id": "ae41a499-9009-4d36-a2a7-6739fa6bb3ab",
   "metadata": {},
   "source": [
    "## Save the vocab json"
   ]
  },
  {
   "cell_type": "code",
   "execution_count": 254,
   "id": "56052b33-6364-4f18-80ae-4b998f2d7f1a",
   "metadata": {},
   "outputs": [],
   "source": [
    "with open('../datasets/hindi_vocab.json', 'w') as file:\n",
    "    word_json = json.dumps(words)\n",
    "    file.write(word_json)"
   ]
  },
  {
   "cell_type": "markdown",
   "id": "1364fa4a-6967-49bb-9e83-1856e59b0a89",
   "metadata": {},
   "source": [
    "---"
   ]
  },
  {
   "cell_type": "markdown",
   "id": "75aa0dc5-cb4c-4c8b-bdf4-dd66e8054f9d",
   "metadata": {},
   "source": [
    "## Load the vocab json"
   ]
  },
  {
   "cell_type": "code",
   "execution_count": 256,
   "id": "fff89b00-0a00-47ed-a72f-a2cdd25fc71d",
   "metadata": {},
   "outputs": [],
   "source": [
    "with open('../datasets/hindi_vocab.json', 'r') as file:\n",
    "    word_str = file.read()\n",
    "    word_json = json.loads(word_str)"
   ]
  },
  {
   "cell_type": "code",
   "execution_count": 247,
   "id": "796b1fa3-a90a-45d7-9c75-eb6f472222db",
   "metadata": {},
   "outputs": [
    {
     "data": {
      "text/plain": [
       "['प्रसङ्ग',\n",
       " 'आङ्गलोङ्ग',\n",
       " 'काङ्ग्',\n",
       " 'हाङ्ग्',\n",
       " 'हैओखलढुङ्गा',\n",
       " 'बैलगाङा',\n",
       " 'तिङ्सुबन्त',\n",
       " 'दाशढुङ्गा',\n",
       " 'लिङ्ग',\n",
       " 'भाषागुरूङ',\n",
       " 'अङ्क',\n",
       " 'पिङ्गलवत्स',\n",
       " 'ऊंठगाङा',\n",
       " 'ङ्यो',\n",
       " 'जिलागरुङ',\n",
       " 'गौराङ्ग',\n",
       " 'न्टङ्',\n",
       " 'ओखलढुङ्गा',\n",
       " 'तामाङ',\n",
       " 'राजवंशमिङ',\n",
       " 'हैखोटाङ',\n",
       " 'स्रोङ्चन',\n",
       " 'खोटाङ',\n",
       " 'छङ्',\n",
       " 'ओदेम्विङिए',\n",
       " 'जिलालमजुङ',\n",
       " 'वेटिङ',\n",
       " 'राथोङ्ग',\n",
       " 'चावङी',\n",
       " 'जिलादाङ',\n",
       " 'हैबङ्ग',\n",
       " 'बङा',\n",
       " 'जनसङ्ख्या',\n",
       " 'खुङ',\n",
       " 'शृङ्गारतिलक',\n",
       " 'मुझुङमुझुङ',\n",
       " 'सङ्घ',\n",
       " 'हङकङ',\n",
       " 'वाङ्मय',\n",
       " 'गोएङ्',\n",
       " 'तालजङ्घ',\n",
       " 'मेकाङ',\n",
       " 'ङ',\n",
       " 'जुभिङजुभिङ',\n",
       " 'सङ्खाकार',\n",
       " 'अपराइज़िङ्ग',\n",
       " 'ह्वाङ',\n",
       " 'काङ्गथिम',\n",
       " 'हैउरुभङ्ग',\n",
       " 'जिलाधादिङ',\n",
       " 'बुङबुङ',\n",
       " 'जयमङ्गल',\n",
       " 'मङ्गन',\n",
       " 'टिङरे',\n",
       " 'सिण्टेङ्ग',\n",
       " 'उल्लङ्घनों',\n",
       " 'गरुङ',\n",
       " 'हैदाशढुङ्गा',\n",
       " 'रङ्गबाली',\n",
       " 'प्याङ',\n",
       " 'भाषातामाङ',\n",
       " 'उरुभङ्ग',\n",
       " 'भङ्ग',\n",
       " 'हुङुन्ड',\n",
       " 'श्रेणीगरुङ',\n",
       " 'बेङ्गलूरु',\n",
       " 'सङ्ख्या',\n",
       " 'गुरूङ',\n",
       " 'अङेल',\n",
       " 'लिङ्गों',\n",
       " 'बङ्ग',\n",
       " 'ङ्युएन',\n",
       " 'सोताङसोताङ',\n",
       " 'मंडाङ',\n",
       " 'ङ्ये',\n",
       " 'पौलिङ',\n",
       " 'गङ्गा',\n",
       " 'काङ्ग्रेस',\n",
       " 'दिनाङ्क',\n",
       " 'जुभिङ',\n",
       " 'अङ्गत्वादि',\n",
       " 'बङ्गाली',\n",
       " 'सङ्गठनों',\n",
       " 'लोङ्गरी',\n",
       " 'पङती',\n",
       " 'डोङिया',\n",
       " 'हेउङमिन',\n",
       " 'हेन्निङ',\n",
       " 'डुङ्गा',\n",
       " 'एङ्गुइला',\n",
       " 'राईदयाहाङ',\n",
       " 'बङी',\n",
       " 'हैडोङिया',\n",
       " 'लाचुङ्ग',\n",
       " 'लेसिङ्ग',\n",
       " 'हैहयतालजङ्घ',\n",
       " 'वेङ्कट',\n",
       " 'अल्पसङ्ख्यक',\n",
       " 'बेहङगांव',\n",
       " 'हैलङकियों',\n",
       " 'जिलाखोटाङ',\n",
       " 'प्रासङ्गिक',\n",
       " 'थोङी',\n",
       " 'सङ्कट',\n",
       " 'सङ्घीय',\n",
       " 'बेङ्गाल',\n",
       " 'मङ्गलगान',\n",
       " 'जिलामुस्ताङ',\n",
       " 'ल्याउदोङ',\n",
       " 'बिछुङ',\n",
       " 'प्याङप्याङ',\n",
       " 'जिलाप्याङ',\n",
       " 'अङ्ग्रेजी',\n",
       " 'शुङ्ग',\n",
       " 'ग्वाङझाउ',\n",
       " 'बङ्गबासी',\n",
       " 'रङ्ग',\n",
       " 'केरुङ',\n",
       " 'दयाहाङ',\n",
       " 'वेदाङ्ग',\n",
       " 'सङक',\n",
       " 'इभाङइभाङ',\n",
       " 'चतुरङ्ग',\n",
       " 'बाङ्ला',\n",
       " 'हैबङ्गबासी',\n",
       " 'नेपालदयाहाङ',\n",
       " 'हैछङ्',\n",
       " 'हैअङेल',\n",
       " 'जुबिङ',\n",
       " 'लाङटाङ',\n",
       " 'गांवगरुङ',\n",
       " 'क्वाङ्चोउ',\n",
       " 'हैजयमङ्गल',\n",
       " 'टाङ्क',\n",
       " 'जिलाबझाङ',\n",
       " 'अपराइसिङ',\n",
       " 'बेङ्गलोर',\n",
       " 'बोल्ङ',\n",
       " 'शङ्खन्',\n",
       " 'जिलामनाङ',\n",
       " 'मेकङ',\n",
       " 'विङ्ग',\n",
       " 'सोयाङसोयाङ',\n",
       " 'सङ्ग्राम',\n",
       " 'अरङुइज़',\n",
       " 'जिलाबागलुङ',\n",
       " 'आयुसङ्घये',\n",
       " 'सङ्गठन',\n",
       " 'अङ्गत्व',\n",
       " 'पुराणलिङ्ग',\n",
       " 'ङेटा',\n",
       " 'हाङायहाबा',\n",
       " 'अङ्गलङ',\n",
       " 'रेङ्किन']"
      ]
     },
     "execution_count": 247,
     "metadata": {},
     "output_type": "execute_result"
    }
   ],
   "source": [
    "[w for w in words if 'ङ' in w]"
   ]
  },
  {
   "cell_type": "code",
   "execution_count": 234,
   "id": "b0377d9b-7696-46d3-b50e-01bf6b875d74",
   "metadata": {},
   "outputs": [
    {
     "data": {
      "text/plain": [
       "(False, True)"
      ]
     },
     "execution_count": 234,
     "metadata": {},
     "output_type": "execute_result"
    }
   ],
   "source": [
    "'खुशि' in words, '' in words"
   ]
  },
  {
   "cell_type": "code",
   "execution_count": null,
   "id": "390403ec-16ad-4889-874f-0e6cce7b85b8",
   "metadata": {},
   "outputs": [],
   "source": []
  }
 ],
 "metadata": {
  "kernelspec": {
   "display_name": "Python 3.13 (hta-env)",
   "language": "python",
   "name": "hta-env"
  },
  "language_info": {
   "codemirror_mode": {
    "name": "ipython",
    "version": 3
   },
   "file_extension": ".py",
   "mimetype": "text/x-python",
   "name": "python",
   "nbconvert_exporter": "python",
   "pygments_lexer": "ipython3",
   "version": "3.13.2"
  }
 },
 "nbformat": 4,
 "nbformat_minor": 5
}
