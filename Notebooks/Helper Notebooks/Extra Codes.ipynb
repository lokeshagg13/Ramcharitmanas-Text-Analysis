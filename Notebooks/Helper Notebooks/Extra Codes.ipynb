{
 "cells": [
  {
   "cell_type": "code",
   "execution_count": null,
   "id": "dc8c1b45-598f-41bc-848b-fe6c4f9e03d8",
   "metadata": {},
   "outputs": [],
   "source": [
    "def find_page_for_text(txt):\n",
    "    for chapter in ramcharitmanas_book.chapters:\n",
    "        for page in chapter.pages:\n",
    "            if txt in page.text:\n",
    "                return (chapter.chapter_number, page.book_page_number, page.text)\n",
    "    return 'Not Found'\n"
   ]
  },
  {
   "cell_type": "code",
   "execution_count": null,
   "id": "757c94b2-7643-4dfa-92a0-1eb2071a7fb1",
   "metadata": {},
   "outputs": [],
   "source": [
    "def find_padya_for_text(txt):\n",
    "    for chapter in ramcharitmanas_book.chapters:\n",
    "        for padya in chapter.padyas:\n",
    "            if txt in padya.text:\n",
    "                return (chapter.chapter_number, padya.padya_count, padya.book_page_number, padya.text)\n",
    "    return 'Not Found'\n"
   ]
  },
  {
   "cell_type": "code",
   "execution_count": null,
   "id": "5c4c0cfd-07c2-417a-9598-40ffcedda0e3",
   "metadata": {},
   "outputs": [],
   "source": []
  },
  {
   "cell_type": "code",
   "execution_count": null,
   "id": "b47030ab-1c1e-41a6-9a96-17d54aeb477c",
   "metadata": {},
   "outputs": [],
   "source": []
  },
  {
   "cell_type": "code",
   "execution_count": null,
   "id": "422c28bd-1c49-4166-b3d6-1cb3f29f3393",
   "metadata": {},
   "outputs": [],
   "source": []
  },
  {
   "cell_type": "code",
   "execution_count": null,
   "id": "bd91066b-675a-44a3-90f8-b128beb94670",
   "metadata": {},
   "outputs": [],
   "source": []
  },
  {
   "cell_type": "markdown",
   "id": "663c5438-f8a3-47df-bba4-6d6715588ae8",
   "metadata": {},
   "source": [
    "### 2.6. Separating stopwords from words"
   ]
  },
  {
   "cell_type": "code",
   "execution_count": null,
   "id": "74995dfd-6cb2-4823-80fd-9ecacbea8f52",
   "metadata": {},
   "outputs": [],
   "source": [
    "all_tokens = []\n",
    "for meaning in ramcharitmanas_df['Meaning']:\n",
    "    meaning = meaning.replace('॥', '')\n",
    "    meaning = meaning.replace('।', '')\n",
    "    meaning = meaning.replace('-', '')\n",
    "    meaning = meaning.replace(',', '')\n",
    "    meaning = meaning.replace('\\n', ' ')\n",
    "    tokens = [word for word in meaning.split(' ') if len(word) >= 3]\n",
    "    all_tokens.extend(tokens)\n",
    "\n",
    "stopwords = ['के', 'का', 'की']\n",
    "for token in list(set(all_tokens)):\n",
    "    if token.endswith(stopwords[2]):\n",
    "        print(token)\n"
   ]
  },
  {
   "cell_type": "code",
   "execution_count": null,
   "id": "34f7582a-3d14-467f-a541-8140ecf80986",
   "metadata": {},
   "outputs": [],
   "source": [
    "all_tokens = []\n",
    "for meaning in ramcharitmanas_df['Meaning']:\n",
    "    meaning = meaning.replace('॥', '')\n",
    "    meaning = meaning.replace('।', '')\n",
    "    meaning = meaning.replace('-', '')\n",
    "    meaning = meaning.replace(',', '')\n",
    "    meaning = meaning.replace('\\n', ' ')\n",
    "    tokens = [word for word in meaning.split(' ') if len(word) >= 3]\n",
    "    all_tokens.extend(tokens)\n",
    "\n",
    "# Count frequencies\n",
    "word_freq = Counter(all_tokens)\n",
    "top_20 = word_freq.most_common(20)\n",
    "\n",
    "# Convert to DataFrame for display\n",
    "top_words_df = pd.DataFrame(top_20, columns=['Word', 'Frequency'])\n",
    "display(top_words_df)\n"
   ]
  },
  {
   "cell_type": "code",
   "execution_count": null,
   "id": "5ad809a8-319f-4b7f-8c73-4beb7a3e5a66",
   "metadata": {},
   "outputs": [],
   "source": [
    "spw = [\n",
    "    'के', 'का', 'की', 'है', 'हैं', 'से', 'को', 'पर', 'और', 'में', 'भी', 'जो', 'तो', 'यह', 'था', 'थे', 'कि', 'नहीं', 'मैं', 'गये', 'हूँ', 'करके', 'हुए', 'फिर',\n",
    "    'रहे', 'किया', 'लिये', 'समान', 'बहुत', \"अंदर\", \"अत\",\"अदि\",\"अप\",\"अपना\",\"अपनि\",\"अपनी\",\"अपने\",\"अभि\",\"अभी\",\"आदि\",\"आप\",\"इंहिं\",\"इंहें\",\"इंहों\",\"इतयादि\",\"इत्यादि\",\"इन\",\"इनका\",\"इन्हीं\",\"इन्हें\",\"इन्हों\",\"इस\",\"इसका\",\"इसकि\",\"इसकी\",\"इसके\",\"इसमें\",\"इसि\",\"इसी\",\"इसे\",\"उंहिं\",\"उंहें\",\"उंहों\",\"उन\",\"उनका\",\"उनकि\",\"उनकी\",\"उनके\",\"उनको\",\"उन्हीं\",\"उन्हें\",\"उन्हों\",\"उस\",\"उसके\",\"उसि\",\"उसी\",\"उसे\",\"एक\",\"एवं\",\"एस\",\"एसे\",\"ऐसे\",\"ओर\",\"और\",\"कइ\",\"कई\",\"कर\",\"करता\",\"करते\",\"करना\",\"करने\",\"करें\",\"कहते\",\"कहा\",\"का\",\"काफि\",\"काफ़ी\",\"कि\",\"किंहें\",\"किंहों\",\"कितना\",\"किन्हें\",\"किन्हों\",\"किया\",\"किर\",\"किस\",\"किसि\",\"किसी\",\"किसे\",\"की\",\"कुछ\",\"कुल\",\"के\",\"को\",\"कोइ\",\"कोई\",\"कोन\",\"कोनसा\",\"कौन\",\"कौनसा\",\"गया\",\"घर\",\"जब\",\"जहाँ\",\"जहां\",\"जा\",\"जिंहें\",\"जिंहों\",\"जितना\",\"जिधर\",\"जिन\",\"जिन्हें\",\"जिन्हों\",\"जिस\",\"जिसे\",\"जीधर\",\"जेसा\",\"जेसे\",\"जैसा\",\"जैसे\",\"जो\",\"तक\",\"तब\",\"तरह\",\"तिंहें\",\"तिंहों\",\"तिन\",\"तिन्हें\",\"तिन्हों\",\"तिस\",\"तिसे\",\"तो\",\"था\",\"थि\",\"थी\",\"थे\",\"दबारा\",\"दवारा\",\"दिया\",\"दुसरा\",\"दुसरे\",\"दूसरे\",\"दो\",\"द्वारा\",\"न\",\"नहिं\",\"नहीं\",\"ना\",\"निचे\",\"निहायत\",\"नीचे\",\"ने\",\"पर\",\"पहले\",\"पुरा\",\"पूरा\",\"पे\",\"फिर\",\"बनि\",\"बनी\",\"बहि\",\"बही\",\"बहुत\",\"बाद\",\"बाला\",\"बिलकुल\",\"भि\",\"भितर\",\"भी\",\"भीतर\",\"मगर\",\"मानो\",\"मे\",\"में\",\"यदि\",\"यह\",\"यहाँ\",\"यहां\",\"यहि\",\"यही\",\"या\",\"यिह\",\"ये\",\"रखें\",\"रवासा\",\"रहा\",\"रहे\",\"ऱ्वासा\",\"लिए\",\"लिये\",\"लेकिन\",\"व\",\"वगेरह\",\"वरग\",\"वर्ग\",\"वह\",\"वहाँ\",\"वहां\",\"वहिं\",\"वहीं\",\"वाले\",\"वुह\",\"वे\",\"वग़ैरह\",\"संग\",\"सकता\",\"सकते\",\"सबसे\",\"सभि\",\"सभी\",\"साथ\",\"साबुत\",\"साभ\",\"सारा\",\"से\",\"सो\",\"हि\",\"ही\",\"हुअ\",\"हुआ\",\"हुइ\",\"हुई\",\"हुए\",\"हे\",\"हें\",\"है\",\"हैं\",\"हो\",\"होता\",\"होति\",\"होती\",\"होते\",\"होना\",\"होने\"\n",
    "]\n",
    "print(' '.join(spw).split(' '))"
   ]
  },
  {
   "cell_type": "code",
   "execution_count": null,
   "id": "d9c14f24-80af-4924-aa20-2459120d1d9c",
   "metadata": {},
   "outputs": [],
   "source": [
    "import pickle\n",
    "with open('Dataset/hindi_lm_large.vocab', 'rb') as f:\n",
    "    vocab = pickle.load(f)"
   ]
  },
  {
   "cell_type": "code",
   "execution_count": null,
   "id": "71e517cd-e094-4479-8bfb-d5b40bfbb7ce",
   "metadata": {},
   "outputs": [],
   "source": []
  },
  {
   "cell_type": "code",
   "execution_count": null,
   "id": "b2902346-62e6-4afd-bc72-1471c04893f0",
   "metadata": {},
   "outputs": [],
   "source": []
  },
  {
   "cell_type": "code",
   "execution_count": null,
   "id": "37767c40-05ec-423b-afd7-dc7a6ce54339",
   "metadata": {},
   "outputs": [],
   "source": []
  },
  {
   "cell_type": "code",
   "execution_count": null,
   "id": "95770ff7-48d2-42ae-a747-ab7b1833ef35",
   "metadata": {},
   "outputs": [],
   "source": []
  },
  {
   "cell_type": "markdown",
   "id": "a8e8a3c0-03ec-4403-bb64-8a4de5749077",
   "metadata": {},
   "source": [
    "## Stopword loader\n"
   ]
  },
  {
   "cell_type": "code",
   "execution_count": null,
   "id": "5be00445-f929-48a8-b212-c1fce0ce6b91",
   "metadata": {},
   "outputs": [],
   "source": [
    "with open('hindi_stopwords.txt') as file:\n",
    "    stopwords = file.read()\n",
    "stopwords_list = re.split(r'\\s', stopwords)\n",
    "stopwords_list = [w.strip() for w in stopwords_list if w.strip()]\n",
    "stopwords_list"
   ]
  },
  {
   "cell_type": "code",
   "execution_count": null,
   "id": "7cba9548-2add-428b-8c94-6451d9991531",
   "metadata": {},
   "outputs": [],
   "source": [
    "stopwords_list.extend([\n",
    "    \"अंदर\", \"अत\", \"अदि\", \"अपना\", \"अपने\", \"अभी\", \"आदि\", \"आप\", \"इत्यादि\", \"इन\", \"इनका\", \"इन्हीं\", \"इन्हें\",\n",
    "    \"इस\", \"इसका\", \"इसमें\", \"इसी\", \"इसे\", \"उन\", \"उनका\", \"उनकी\", \"उनके\", \"उन्हीं\", \"उन्हें\", \"उस\", \"उसका\",\n",
    "    \"उसकी\", \"उसके\", \"उसी\", \"उसे\", \"एक\", \"एवं\", \"एस\", \"ऐसे\", \"और\", \"कई\", \"कर\", \"करता\", \"करते\", \"करना\", \"करने\",\n",
    "    \"कहा\", \"का\", \"काफ़ी\", \"कि\", \"किया\", \"किर\", \"किस\", \"किसी\", \"कितना\", \"किन्हें\", \"किन्हों\", \"किया\", \"किसे\",\n",
    "    \"कौन\", \"को\", \"कोई\", \"कुछ\", \"कुल\", \"खास\", \"गया\", \"घर\", \"जब\", \"जहाँ\", \"जा\", \"जिन\", \"जिन्हें\", \"जिन्हों\",\n",
    "    \"जिस\", \"जिसे\", \"जिसने\", \"जी\", \"जैसा\", \"जैसे\", \"जो\", \"तक\", \"तब\", \"तरह\", \"तिन\", \"तिन्हें\", \"तिन्हों\",\n",
    "    \"तिस\", \"तिसे\", \"तो\", \"था\", \"थि\", \"थी\", \"थे\", \"दबारा\", \"दूसरे\", \"दो\", \"द्वारा\", \"न\", \"ना\", \"नहीं\", \"ना ही\",\n",
    "    \"निचे\", \"निहायत\", \"नीचे\", \"ने\", \"पर\", \"पहले\", \"पुरा\", \"फिर\", \"बनी\", \"बही\", \"बहुत\", \"बाद\", \"बाला\", \"बिलकुल\",\n",
    "    \"भी\", \"भीतर\", \"मगर\", \"मानो\", \"मे\", \"में\", \"मेरे\", \"मुझे\", \"मुंह\", \"मुख्य\", \"मुस्किल\", \"मैं\", \"यदि\", \"यह\",\n",
    "    \"यहाँ\", \"यहीं\", \"यही\", \"या\", \"यानी\", \"ये\", \"रखें\", \"रहा\", \"रहे\", \"ऱ्वासा\", \"लिए\", \"लिये\", \"लेकिन\", \"व\",\n",
    "    \"वग़ैरह\", \"वर्ग\", \"वह\", \"वहाँ\", \"वहीं\", \"वाले\", \"वास्तव में\", \"वास्तविक\", \"वहां\", \"वहीं\", \"वही\", \"वो\", \"व्यक्ति\",\n",
    "    \"सकता\", \"सकते\", \"सब\", \"सबसे\", \"सभी\", \"समान\", \"सम्भव\", \"सभी\", \"साथ\", \"साबुत\", \"साभार\", \"से\", \"सो\", \"स्वयं\",\n",
    "    \"ही\", \"हुआ\", \"हुई\", \"हुए\", \"हे\", \"हें\", \"है\", \"हैं\", \"हो\", \"होता\", \"होती\", \"होते\", \"होना\", \"होने\", \"तथा\",\n",
    "    \"तब\", \"तेरा\", \"तेरी\", \"तेरे\", \"उनकी\", \"उन्हें\", \"उन्हों\", \"उपर\", \"ए\", \"ऐ\", \"ओ\", \"काफ़ी\", \"कितने\", \"कितनी\",\n",
    "    \"कितनों\", \"क्यों\", \"गए\", \"चाहिए\", \"जा\", \"जाता\", \"जाती\", \"जाते\", \"जरूर\", \"जब\", \"जिनका\", \"जिनकी\", \"जिनके\",\n",
    "    \"जैसे\", \"जो\", \"तक\", \"तुम\", \"तुम्हारा\", \"तुम्हारी\", \"तुम्हारे\", \"तेरा\", \"तेरी\", \"तेरे\", \"थोड़ा\", \"थोड़ी\",\n",
    "    \"थोड़े\", \"दिया\", \"दिये\", \"दिसंबर\", \"देखें\", \"दोनों\", \"दूसरा\", \"दूसरी\", \"दूसरे\", \"ध्यान\", \"न\", \"नहीं\", \"ना\",\n",
    "    \"नीचे\", \"पास\", \"फिर\", \"फिलहाल\", \"बनी\", \"बना\", \"बनाई\", \"बनाए\", \"बिलकुल\", \"भी\", \"भीतर\", \"बिल्कुल\", \"बहुत\",\n",
    "    \"बाद\", \"बाला\", \"बाहर\", \"बीच\", \"बिना\", \"बिस\", \"बल्कि\", \"बेहद\", \"बीते\", \"बाएं\", \"बड़ी\", \"बड़ा\", \"बड़े\", \"बोल\",\n",
    "    \"बोलना\", \"बोलते\", \"बोलती\", \"बोलने\", \"बोलो\", \"भले\", \"भूल\", \"भूत\", \"भिन्न\", \"मानो\", \"मगर\", \"मुझे\", \"मेरा\",\n",
    "    \"मेरी\", \"मेरे\", \"मैं\", \"माना\", \"मार्च\", \"मानसिक\", \"मात्र\", \"मिल\", \"मिला\", \"मिलती\", \"मिलते\", \"मिलने\", \"मुश्किल\",\n",
    "    \"मुख्य\", \"मुमकिन\", \"मुंह\", \"मन\", \"में\", \"यानी\", \"या\", \"यू\", \"यही\", \"यथा\", \"यदि\", \"यह\", \"यहाँ\", \"यहीं\", \"ये\",\n",
    "    \"रखना\", \"रखें\", \"रखा\", \"रखती\", \"रखते\", \"रखने\", \"रखो\", \"रहा\", \"रही\", \"रहे\", \"लगा\", \"लगती\", \"लगते\", \"लगने\",\n",
    "    \"लगभग\", \"लगे\", \"लिया\", \"ली\", \"लिए\", \"लिये\", \"लेकिन\", \"व\", \"वग़ैरह\", \"वर्ग\", \"वह\", \"वहाँ\", \"वहीं\", \"वाले\",\n",
    "    \"वास्तव\", \"वास्तविक\", \"वहां\", \"वही\", \"वो\", \"व्यक्ति\", \"सकता\", \"सकती\", \"सकते\", \"सभी\", \"सब\", \"सबसे\", \"साथ\",\n",
    "    \"साबुत\", \"साभार\", \"सिर्फ\", \"सी\", \"सुन\", \"सुनते\", \"सुनती\", \"सुनने\", \"सुनाया\", \"सुनाई\", \"सुनाए\", \"सुनाना\", \"सुनाने\",\n",
    "    \"से\", \"सो\", \"स्वयं\", \"हुई\", \"हुआ\", \"हुए\", \"हें\", \"है\", \"हैं\", \"हो\", \"होता\", \"होती\", \"होते\", \"होना\", \"होने\"\n",
    "])"
   ]
  },
  {
   "cell_type": "code",
   "execution_count": null,
   "id": "1a0e12ff-0257-465b-a305-805ff2554d66",
   "metadata": {},
   "outputs": [],
   "source": [
    "stopwords_list = list(set(stopwords_list))\n",
    "len(stopwords_list) "
   ]
  },
  {
   "cell_type": "code",
   "execution_count": null,
   "id": "a5b90599-f3e7-45a8-ab7a-1e14993591b3",
   "metadata": {},
   "outputs": [],
   "source": []
  },
  {
   "cell_type": "code",
   "execution_count": null,
   "id": "3920edea-4afc-4fc3-8c21-92aaf60f2cec",
   "metadata": {},
   "outputs": [],
   "source": [
    "import re\n",
    "import json\n",
    "import gradio as gr\n",
    "\n",
    "from hindi_transliterator import transliterate_word\n",
    "\n",
    "\n",
    "eng_word = None\n",
    "error_flag = False\n",
    "full_text = \"\"\n",
    "eng_hindi_map = {}\n",
    "\n",
    "with open('./datasets/hindi_vocab.json') as file:\n",
    "    word_str = file.read()\n",
    "    hindi_vocab = json.loads(word_str)\n",
    "\n",
    "# Function to convert sentence into tokens\n",
    "def tokenize_sentence(sentence):\n",
    "    tokens = re.split(r'\\s', sentence)\n",
    "    tokens = [re.sub(r'[^a-z]', '', token) for token in tokens if token != '']\n",
    "    return tokens\n",
    "\n",
    "# Function to get devanagari suggestions for the input word\n",
    "def get_devanagari_suggestions(word):\n",
    "    hindi_tokens = transliterate_word(word)\n",
    "    valid_tokens = [token for token in hindi_tokens if token in hindi_vocab]\n",
    "    if len(valid_tokens) == 0:\n",
    "        return hindi_tokens\n",
    "    else:\n",
    "        return valid_tokens\n",
    "\n",
    "# Function to process input text and generate suggestions\n",
    "def update_suggestions(input_text, top_k=10):\n",
    "    global eng_word, eng_hindi_map, error_flag, full_text\n",
    "    words = input_text.split()\n",
    "    words = [word for word in words if word != '']\n",
    "    if not words:\n",
    "        eng_hindi_map = {}\n",
    "        return [], gr.update(value='', visible=False), input_text\n",
    "    eng_word = last_word = words[-1]\n",
    "    suggestions = get_devanagari_suggestions(last_word)[:top_k]\n",
    "    if error_flag or (input_text[-1] == ' ' and last_word not in eng_hindi_map.values()):\n",
    "        error_flag = True\n",
    "        input_text = full_text\n",
    "        return suggestions, gr.update(value='Please select a hindi suggestion for the current word before moving on to the next word', visible=True), full_text\n",
    "    full_text = input_text\n",
    "    \n",
    "    return suggestions, gr.update(value='', visible=False), full_text\n",
    "\n",
    "# Function to handle suggestion selection\n",
    "def handle_selection(selected_word):\n",
    "    global eng_word, eng_hindi_map, error_flag, full_text\n",
    "    eng_hindi_map[eng_word] = selected_word\n",
    "    error_flag = False\n",
    "    print(selected_word, eng_hindi_map)\n",
    "    full_text = f\"{' '.join(eng_hindi_map.values())} \"\n",
    "    return full_text\n",
    "\n",
    "# Gradio app\n",
    "if __name__ == '__main__':\n",
    "    max_suggestions = 10\n",
    "\n",
    "    focus_script = \"\"\"\n",
    "        function focusTextInput() {\n",
    "            document.getElementById(\"text-input\").focus();\n",
    "        }\n",
    "    \"\"\"\n",
    "\n",
    "    with gr.Blocks(theme=gr.themes.Base()) as app:\n",
    "        input_text = gr.Textbox(label=\"Enter text\", placeholder=\"Type something here...\", lines=1, elem_id=\"text-input\")\n",
    "        error_text = gr.Textbox(label=\"\", interactive=False, visible=False, elem_id=\"error-msg\")\n",
    "\n",
    "        suggestion_buttons = []\n",
    "        with gr.Row(equal_height=True):\n",
    "            for i in range(max_suggestions):\n",
    "                btn = gr.Button(value='', elem_id=f\"btn_{i}\")\n",
    "                btn.click(fn=handle_selection, inputs=btn, outputs=input_text)\n",
    "                suggestion_buttons.append(btn)\n",
    "        \n",
    "        def update_interface(input_text):\n",
    "            suggestions, error_message, full_text = update_suggestions(input_text, max_suggestions)\n",
    "            while len(suggestions) < max_suggestions:\n",
    "                suggestions.append('')\n",
    "            return suggestions + [error_message] + [full_text]\n",
    "\n",
    "        input_text.change(fn=update_interface, \n",
    "                          inputs=input_text, \n",
    "                          outputs=(suggestion_buttons+[error_text]+[input_text])\n",
    "                         )\n",
    "\n",
    "    app.css = \"\"\"\n",
    "        #error-msg textarea{ \n",
    "            font-weight: bold; \n",
    "            font-family: 'Arial, sans-serif';\n",
    "            font-size: 1.2em; \n",
    "            border: none;\n",
    "            margin-top: -2rem;\n",
    "            color: red;\n",
    "        }\n",
    "    \"\"\"\n",
    "    \n",
    "    app.launch()\n"
   ]
  }
 ],
 "metadata": {
  "kernelspec": {
   "display_name": "Python (Hindu Text Analysis)",
   "language": "python",
   "name": "hta_env"
  },
  "language_info": {
   "codemirror_mode": {
    "name": "ipython",
    "version": 3
   },
   "file_extension": ".py",
   "mimetype": "text/x-python",
   "name": "python",
   "nbconvert_exporter": "python",
   "pygments_lexer": "ipython3",
   "version": "3.13.2"
  }
 },
 "nbformat": 4,
 "nbformat_minor": 5
}
